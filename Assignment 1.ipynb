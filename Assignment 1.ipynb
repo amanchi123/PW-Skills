{
 "cells": [
  {
   "cell_type": "code",
   "execution_count": 1,
   "id": "4fb7c0ab-10e9-484e-8447-eb9f0cc8197d",
   "metadata": {},
   "outputs": [],
   "source": [
    "\"\"\"TOPIC: Python Basics Variable\"\"\"\n",
    "#1Question:\n",
    "\n",
    "x=10\n",
    "y=20\n",
    "x=x+y"
   ]
  },
  {
   "cell_type": "code",
   "execution_count": 2,
   "id": "fd4bc038-399f-49fc-a735-bedea706394f",
   "metadata": {},
   "outputs": [
    {
     "data": {
      "text/plain": [
       "30"
      ]
     },
     "execution_count": 2,
     "metadata": {},
     "output_type": "execute_result"
    }
   ],
   "source": [
    "x"
   ]
  },
  {
   "cell_type": "code",
   "execution_count": 4,
   "id": "4a83cd8b-37b9-42f0-8ad9-377306ada5c1",
   "metadata": {},
   "outputs": [
    {
     "data": {
      "text/plain": [
       "-10"
      ]
     },
     "execution_count": 4,
     "metadata": {},
     "output_type": "execute_result"
    }
   ],
   "source": [
    "x=x-y\n",
    "x"
   ]
  },
  {
   "cell_type": "code",
   "execution_count": 17,
   "id": "242f9cd4-99cf-4b40-9a77-080bb41ef5c2",
   "metadata": {},
   "outputs": [
    {
     "name": "stdin",
     "output_type": "stream",
     "text": [
      "Length of Rectangle: 20\n",
      "width of Rectangle: 10\n"
     ]
    },
    {
     "name": "stdout",
     "output_type": "stream",
     "text": [
      "Area of Rectangle is: 200\n"
     ]
    }
   ],
   "source": [
    "#2.Question:\n",
    "\n",
    "a = int(input('Length of Rectangle:'))\n",
    "b= int(input('width of Rectangle:'))\n",
    "Area = a*b\n",
    "print('Area of Rectangle is:',Area)\n",
    "\n"
   ]
  },
  {
   "cell_type": "code",
   "execution_count": 19,
   "id": "5069526c-944c-4f59-b742-2b349e0835d2",
   "metadata": {},
   "outputs": [
    {
     "name": "stdin",
     "output_type": "stream",
     "text": [
      " Temperature in Celsius: 23\n"
     ]
    },
    {
     "name": "stdout",
     "output_type": "stream",
     "text": [
      "Temperature in Fahrenheit : 73.4\n"
     ]
    }
   ],
   "source": [
    "# 3.Question:\n",
    "celsius = int(input(' Temperature in Celsius:'))\n",
    "fahrenheit = (1.8 * celsius) + 32\n",
    "print(\"Temperature in Fahrenheit :\", fahrenheit)"
   ]
  },
  {
   "cell_type": "code",
   "execution_count": 21,
   "id": "791c1dc2-76fd-4925-9c6a-0536d28ec5e9",
   "metadata": {},
   "outputs": [
    {
     "name": "stdin",
     "output_type": "stream",
     "text": [
      "Enter the value: RAMSEETHA\n"
     ]
    },
    {
     "name": "stdout",
     "output_type": "stream",
     "text": [
      "9\n"
     ]
    }
   ],
   "source": [
    "\"\"\"TOPIC :String Based Questions\"\"\"\n",
    "#1.Question:\n",
    "A=input('Enter the value:')\n",
    "print(len(A))\n"
   ]
  },
  {
   "cell_type": "code",
   "execution_count": 27,
   "id": "7751cadb-c859-4ed2-b22e-7689a85f3bb1",
   "metadata": {},
   "outputs": [
    {
     "name": "stdin",
     "output_type": "stream",
     "text": [
      "Enter the string : My name is milly\n"
     ]
    },
    {
     "name": "stdout",
     "output_type": "stream",
     "text": [
      "Total vowels are :4\n"
     ]
    }
   ],
   "source": [
    "#2.Question:\n",
    "\n",
    "string = input('Enter the string :')\n",
    "count = 0\n",
    "for i in string:\n",
    "    if i == 'a' or i == 'e' or i == 'i' or i == 'o' or i == 'u':\n",
    "        count+=1\n",
    "if count == 0:\n",
    "    print('No vowels found')\n",
    "else:\n",
    "    print('Total vowels are :' + str(count))"
   ]
  },
  {
   "cell_type": "code",
   "execution_count": 31,
   "id": "31123d40-0fe8-4b39-9d41-bb508b42208a",
   "metadata": {},
   "outputs": [
    {
     "name": "stdin",
     "output_type": "stream",
     "text": [
      "Enter the string: Milly\n"
     ]
    },
    {
     "name": "stdout",
     "output_type": "stream",
     "text": [
      "ylliM\n"
     ]
    }
   ],
   "source": [
    "#3.Question:\n",
    "\n",
    "string = input('Enter the string:')\n",
    "print(string[::-1])\n",
    "\n"
   ]
  },
  {
   "cell_type": "code",
   "execution_count": 32,
   "id": "13d68d91-3872-4f1e-af79-c4289f5048bf",
   "metadata": {},
   "outputs": [
    {
     "name": "stdin",
     "output_type": "stream",
     "text": [
      "Enter string: mam\n"
     ]
    },
    {
     "name": "stdout",
     "output_type": "stream",
     "text": [
      "Yes\n"
     ]
    }
   ],
   "source": [
    "#4.Question:\n",
    "\n",
    "def isPalindrome(s):\n",
    "    return s == s[::-1]\n",
    " \n",
    "s = input('Enter string:')\n",
    "ans = isPalindrome(s)\n",
    " \n",
    "if ans:\n",
    "    print(\"Yes\")\n",
    "else:\n",
    "    print(\"No\")"
   ]
  },
  {
   "cell_type": "code",
   "execution_count": 49,
   "id": "ebbed854-d6f8-4008-9888-d14a60119bf6",
   "metadata": {},
   "outputs": [
    {
     "name": "stdin",
     "output_type": "stream",
     "text": [
      "Enter the string: M I L L Y\n"
     ]
    },
    {
     "name": "stdout",
     "output_type": "stream",
     "text": [
      "MILLY\n"
     ]
    }
   ],
   "source": [
    "#5.Question:\n",
    "string = input('Enter the string:')\n",
    "print(string.replace(\" \", \"\"))\n",
    "\n"
   ]
  }
 ],
 "metadata": {
  "kernelspec": {
   "display_name": "Python 3 (ipykernel)",
   "language": "python",
   "name": "python3"
  },
  "language_info": {
   "codemirror_mode": {
    "name": "ipython",
    "version": 3
   },
   "file_extension": ".py",
   "mimetype": "text/x-python",
   "name": "python",
   "nbconvert_exporter": "python",
   "pygments_lexer": "ipython3",
   "version": "3.10.8"
  }
 },
 "nbformat": 4,
 "nbformat_minor": 5
}
